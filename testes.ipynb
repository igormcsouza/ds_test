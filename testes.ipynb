{
 "cells": [
  {
   "cell_type": "code",
   "execution_count": 1,
   "metadata": {},
   "outputs": [],
   "source": [
    "# My own convnets model using Tensor Flow\n",
    "from convnets import Model"
   ]
  },
  {
   "cell_type": "code",
   "execution_count": 2,
   "metadata": {},
   "outputs": [],
   "source": [
    "# Reading the inputs!\n",
    "def reading_file_name(base_dir):\n",
    "    from os import listdir\n",
    "    from os.path import isfile, join\n",
    "    onlyfiles = [f for f in listdir(base_dir) if isfile(join(base_dir, f))]\n",
    "    return onlyfiles\n",
    "\n",
    "test_files_name = reading_file_name('Large Files/test.rotfaces/test/')\n",
    "train_files_name = reading_file_name('Large Files/train.rotfaces/train/')"
   ]
  },
  {
   "cell_type": "code",
   "execution_count": null,
   "metadata": {},
   "outputs": [
    {
     "name": "stdout",
     "output_type": "stream",
     "text": [
      "1%\r"
     ]
    }
   ],
   "source": [
    "from imageio import imread\n",
    "from os.path import join\n",
    "\n",
    "track = len(train_files_name)\n",
    "count = 0\n",
    "\n",
    "train = dict()\n",
    "for f in train_files_name:\n",
    "    train[f] = (imread(join('Large Files/train.rotfaces/train/', f)))\n",
    "    count += 1\n",
    "    print('{0}%'.format(round((count/track)*100), 2), end='\\r')"
   ]
  },
  {
   "cell_type": "code",
   "execution_count": null,
   "metadata": {},
   "outputs": [],
   "source": [
    "%matplotlib inline\n",
    "import matplotlib.pyplot as plt\n",
    "plt.imshow(train['0-10049200_1891-09-16_1958.jpg'])"
   ]
  },
  {
   "cell_type": "code",
   "execution_count": null,
   "metadata": {},
   "outputs": [],
   "source": [
    "train"
   ]
  },
  {
   "cell_type": "code",
   "execution_count": null,
   "metadata": {},
   "outputs": [],
   "source": [
    "from pandas import read_csv\n",
    "labels = read_csv('Large Files/train.rotfaces/train.truth.csv')\n",
    "\n",
    "labels"
   ]
  },
  {
   "cell_type": "code",
   "execution_count": null,
   "metadata": {},
   "outputs": [],
   "source": [
    "X = []\n",
    "\n",
    "for item in labels.fn:\n",
    "    X.append(train[item])"
   ]
  },
  {
   "cell_type": "code",
   "execution_count": null,
   "metadata": {},
   "outputs": [],
   "source": [
    "Ya = []\n",
    "\n",
    "for item in labels.label:\n",
    "    Ya.append(item)"
   ]
  },
  {
   "cell_type": "code",
   "execution_count": null,
   "metadata": {},
   "outputs": [],
   "source": [
    "from sklearn import preprocessing\n",
    "le = preprocessing.LabelEncoder()\n",
    "le.fit(Ya)\n",
    "print(le.classes_)\n",
    "\n",
    "Y = le.transform(Ya)\n",
    "print(Y)"
   ]
  },
  {
   "cell_type": "code",
   "execution_count": null,
   "metadata": {},
   "outputs": [],
   "source": [
    "from sklearn.model_selection import train_test_split\n",
    "Xtr, Xte, Ytr, Yte = train_test_split(X, Y)"
   ]
  },
  {
   "cell_type": "code",
   "execution_count": null,
   "metadata": {},
   "outputs": [],
   "source": [
    "le.inverse_transform([Ytr[1]])"
   ]
  },
  {
   "cell_type": "code",
   "execution_count": null,
   "metadata": {},
   "outputs": [],
   "source": [
    "%matplotlib inline\n",
    "import matplotlib.pyplot as plt\n",
    "plt.imshow(Xtr[1])"
   ]
  },
  {
   "cell_type": "code",
   "execution_count": null,
   "metadata": {},
   "outputs": [],
   "source": [
    "from numpy import array\n",
    "\n",
    "Xtr = array(Xtr).astype('float16')\n",
    "Xte = array(Xte).astype('float16')\n",
    "Ytr = array(Ytr).astype('float16')\n",
    "Yte = array(Yte).astype('float16')\n",
    "\n",
    "print('{0}, {1}, {2}, {3}'.format(Xtr.shape, Xte.shape, Ytr.shape, Yte.shape))"
   ]
  },
  {
   "cell_type": "code",
   "execution_count": null,
   "metadata": {},
   "outputs": [],
   "source": [
    "my_model = Model({\n",
    "    'Xtr': Xtr, 'Xte': Xte, 'Ytr': Ytr, 'Yte':Yte\n",
    "}, frame=(64,64))"
   ]
  },
  {
   "cell_type": "code",
   "execution_count": null,
   "metadata": {},
   "outputs": [],
   "source": [
    "my_model.starter()\n",
    "my_model.train(steps=10000)\n",
    "print(my_model.evaluate())\n",
    "print(my_model.predict(Xte[0]))"
   ]
  },
  {
   "cell_type": "code",
   "execution_count": null,
   "metadata": {},
   "outputs": [],
   "source": []
  }
 ],
 "metadata": {
  "kernelspec": {
   "display_name": "Python 3",
   "language": "python",
   "name": "python3"
  },
  "language_info": {
   "codemirror_mode": {
    "name": "ipython",
    "version": 3
   },
   "file_extension": ".py",
   "mimetype": "text/x-python",
   "name": "python",
   "nbconvert_exporter": "python",
   "pygments_lexer": "ipython3",
   "version": "3.7.3"
  }
 },
 "nbformat": 4,
 "nbformat_minor": 2
}
