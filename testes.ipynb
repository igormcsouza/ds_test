{
 "cells": [
  {
   "cell_type": "code",
   "execution_count": 1,
   "metadata": {},
   "outputs": [],
   "source": [
    "# My own convnets model using Tensor Flow\n",
    "# from convnets import Model"
   ]
  },
  {
   "cell_type": "code",
   "execution_count": 46,
   "metadata": {},
   "outputs": [],
   "source": [
    "# Reading the inputs!\n",
    "def reading_file_name(base_dir):\n",
    "    from os import listdir\n",
    "    from os.path import isfile, join\n",
    "    onlyfiles = [f for f in listdir(base_dir) if isfile(join(base_dir, f))]\n",
    "    return onlyfiles\n",
    "\n",
    "test_files_name = reading_file_name('Large Files/test.rotfaces/test/')\n",
    "train_files_name = reading_file_name('Large Files/train.rotfaces/train/')"
   ]
  },
  {
   "cell_type": "code",
   "execution_count": 3,
   "metadata": {},
   "outputs": [
    {
     "name": "stdout",
     "output_type": "stream",
     "text": [
      "100%\r"
     ]
    }
   ],
   "source": [
    "from imageio import imread\n",
    "from os.path import join\n",
    "\n",
    "track = len(train_files_name)\n",
    "count = 0\n",
    "\n",
    "train = dict()\n",
    "for f in train_files_name:\n",
    "    train[f] = (imread(join('Large Files/train.rotfaces/train/', f)))\n",
    "    count += 1\n",
    "    print('{0}%'.format(round((count/track)*100), 2), end='\\r')"
   ]
  },
  {
   "cell_type": "code",
   "execution_count": 4,
   "metadata": {},
   "outputs": [
    {
     "data": {
      "text/plain": [
       "<matplotlib.image.AxesImage at 0x7f7d20476cc0>"
      ]
     },
     "execution_count": 4,
     "metadata": {},
     "output_type": "execute_result"
    },
    {
     "data": {
      "image/png": "[encoded data removed]",
      "text/plain": [
       "<Figure size 432x288 with 1 Axes>"
      ]
     },
     "metadata": {
      "needs_background": "light"
     },
     "output_type": "display_data"
    }
   ],
   "source": [
    "%matplotlib inline\n",
    "import matplotlib.pyplot as plt\n",
    "plt.imshow(train['0-10049200_1891-09-16_1958.jpg'])"
   ]
  },
  {
   "cell_type": "code",
   "execution_count": 6,
   "metadata": {},
   "outputs": [
    {
     "data": {
      "text/html": [
       "<div>\n",
       "<style scoped>\n",
       "    .dataframe tbody tr th:only-of-type {\n",
       "        vertical-align: middle;\n",
       "    }\n",
       "\n",
       "    .dataframe tbody tr th {\n",
       "        vertical-align: top;\n",
       "    }\n",
       "\n",
       "    .dataframe thead th {\n",
       "        text-align: right;\n",
       "    }\n",
       "</style>\n",
       "<table border=\"1\" class=\"dataframe\">\n",
       "  <thead>\n",
       "    <tr style=\"text-align: right;\">\n",
       "      <th></th>\n",
       "      <th>fn</th>\n",
       "      <th>label</th>\n",
       "    </tr>\n",
       "  </thead>\n",
       "  <tbody>\n",
       "    <tr>\n",
       "      <th>0</th>\n",
       "      <td>0-10049200_1891-09-16_1958.jpg</td>\n",
       "      <td>rotated_left</td>\n",
       "    </tr>\n",
       "    <tr>\n",
       "      <th>1</th>\n",
       "      <td>0-10110600_1985-09-17_2012.jpg</td>\n",
       "      <td>rotated_left</td>\n",
       "    </tr>\n",
       "    <tr>\n",
       "      <th>2</th>\n",
       "      <td>0-10126400_1964-07-07_2010.jpg</td>\n",
       "      <td>upright</td>\n",
       "    </tr>\n",
       "    <tr>\n",
       "      <th>3</th>\n",
       "      <td>0-1013900_1917-10-15_1960.jpg</td>\n",
       "      <td>rotated_right</td>\n",
       "    </tr>\n",
       "    <tr>\n",
       "      <th>4</th>\n",
       "      <td>0-10166400_1960-03-12_2008.jpg</td>\n",
       "      <td>upside_down</td>\n",
       "    </tr>\n",
       "    <tr>\n",
       "      <th>5</th>\n",
       "      <td>0-102100_1970-10-09_2008.jpg</td>\n",
       "      <td>rotated_left</td>\n",
       "    </tr>\n",
       "    <tr>\n",
       "      <th>6</th>\n",
       "      <td>0-1024100_1982-06-07_2011.jpg</td>\n",
       "      <td>rotated_left</td>\n",
       "    </tr>\n",
       "    <tr>\n",
       "      <th>7</th>\n",
       "      <td>0-10292500_1984-03-26_2009.jpg</td>\n",
       "      <td>rotated_left</td>\n",
       "    </tr>\n",
       "    <tr>\n",
       "      <th>8</th>\n",
       "      <td>0-1035700_1945-11-27_2013.jpg</td>\n",
       "      <td>upside_down</td>\n",
       "    </tr>\n",
       "    <tr>\n",
       "      <th>9</th>\n",
       "      <td>0-10416800_1907-01-08_1967.jpg</td>\n",
       "      <td>upright</td>\n",
       "    </tr>\n",
       "    <tr>\n",
       "      <th>10</th>\n",
       "      <td>0-10525500_1916-02-14_1951.jpg</td>\n",
       "      <td>upside_down</td>\n",
       "    </tr>\n",
       "    <tr>\n",
       "      <th>11</th>\n",
       "      <td>0-1054800_1947-09-19_2011.jpg</td>\n",
       "      <td>rotated_left</td>\n",
       "    </tr>\n",
       "    <tr>\n",
       "      <th>12</th>\n",
       "      <td>0-10623500_1931-09-25_1956.jpg</td>\n",
       "      <td>upside_down</td>\n",
       "    </tr>\n",
       "    <tr>\n",
       "      <th>13</th>\n",
       "      <td>0-10726900_1991-02-03_2010.jpg</td>\n",
       "      <td>rotated_right</td>\n",
       "    </tr>\n",
       "    <tr>\n",
       "      <th>14</th>\n",
       "      <td>0-10870400_1971-06-28_2013.jpg</td>\n",
       "      <td>rotated_left</td>\n",
       "    </tr>\n",
       "    <tr>\n",
       "      <th>15</th>\n",
       "      <td>0-10898800_1951-06-03_1950.jpg</td>\n",
       "      <td>upright</td>\n",
       "    </tr>\n",
       "    <tr>\n",
       "      <th>16</th>\n",
       "      <td>0-10967900_1956-03-18_2007.jpg</td>\n",
       "      <td>upside_down</td>\n",
       "    </tr>\n",
       "    <tr>\n",
       "      <th>17</th>\n",
       "      <td>0-10996600_1988-06-15_2008.jpg</td>\n",
       "      <td>upside_down</td>\n",
       "    </tr>\n",
       "    <tr>\n",
       "      <th>18</th>\n",
       "      <td>0-11035100_1984-08-03_2009.jpg</td>\n",
       "      <td>upside_down</td>\n",
       "    </tr>\n",
       "    <tr>\n",
       "      <th>19</th>\n",
       "      <td>0-1121500_1976-07-31_2007.jpg</td>\n",
       "      <td>rotated_left</td>\n",
       "    </tr>\n",
       "    <tr>\n",
       "      <th>20</th>\n",
       "      <td>0-11328300_1980-06-10_2008.jpg</td>\n",
       "      <td>rotated_right</td>\n",
       "    </tr>\n",
       "    <tr>\n",
       "      <th>21</th>\n",
       "      <td>0-1138200_1963-02-24_2014.jpg</td>\n",
       "      <td>rotated_left</td>\n",
       "    </tr>\n",
       "    <tr>\n",
       "      <th>22</th>\n",
       "      <td>0-1142200_1980-03-17_2010.jpg</td>\n",
       "      <td>rotated_left</td>\n",
       "    </tr>\n",
       "    <tr>\n",
       "      <th>23</th>\n",
       "      <td>0-11435300_1959-12-26_1950.jpg</td>\n",
       "      <td>upright</td>\n",
       "    </tr>\n",
       "    <tr>\n",
       "      <th>24</th>\n",
       "      <td>0-11436800_1951-04-17_1950.jpg</td>\n",
       "      <td>rotated_right</td>\n",
       "    </tr>\n",
       "    <tr>\n",
       "      <th>25</th>\n",
       "      <td>0-1157400_1938-10-01_1961.jpg</td>\n",
       "      <td>upright</td>\n",
       "    </tr>\n",
       "    <tr>\n",
       "      <th>26</th>\n",
       "      <td>0-11581000_1982-03-16_2007.jpg</td>\n",
       "      <td>upside_down</td>\n",
       "    </tr>\n",
       "    <tr>\n",
       "      <th>27</th>\n",
       "      <td>0-1167000_1981-08-18_2012.jpg</td>\n",
       "      <td>rotated_left</td>\n",
       "    </tr>\n",
       "    <tr>\n",
       "      <th>28</th>\n",
       "      <td>0-11736200_1930-09-26_1953.jpg</td>\n",
       "      <td>upside_down</td>\n",
       "    </tr>\n",
       "    <tr>\n",
       "      <th>29</th>\n",
       "      <td>0-1199800_1976-04-13_2012.jpg</td>\n",
       "      <td>upright</td>\n",
       "    </tr>\n",
       "    <tr>\n",
       "      <th>...</th>\n",
       "      <td>...</td>\n",
       "      <td>...</td>\n",
       "    </tr>\n",
       "    <tr>\n",
       "      <th>48866</th>\n",
       "      <td>89-8586089_1898-08-11_1940.jpg</td>\n",
       "      <td>upright</td>\n",
       "    </tr>\n",
       "    <tr>\n",
       "      <th>48867</th>\n",
       "      <td>89-8590589_1932-08-30_2010.jpg</td>\n",
       "      <td>rotated_left</td>\n",
       "    </tr>\n",
       "    <tr>\n",
       "      <th>48868</th>\n",
       "      <td>89-862189_1932-10-13_2007.jpg</td>\n",
       "      <td>rotated_right</td>\n",
       "    </tr>\n",
       "    <tr>\n",
       "      <th>48869</th>\n",
       "      <td>89-8648689_1987-11-16_2006.jpg</td>\n",
       "      <td>rotated_right</td>\n",
       "    </tr>\n",
       "    <tr>\n",
       "      <th>48870</th>\n",
       "      <td>89-8702889_1931-10-15_2003.jpg</td>\n",
       "      <td>rotated_right</td>\n",
       "    </tr>\n",
       "    <tr>\n",
       "      <th>48871</th>\n",
       "      <td>89-870689_1977-01-28_2009.jpg</td>\n",
       "      <td>rotated_right</td>\n",
       "    </tr>\n",
       "    <tr>\n",
       "      <th>48872</th>\n",
       "      <td>89-8773189_1962-10-01_2009.jpg</td>\n",
       "      <td>upright</td>\n",
       "    </tr>\n",
       "    <tr>\n",
       "      <th>48873</th>\n",
       "      <td>89-88489_1944-08-08_1980.jpg</td>\n",
       "      <td>upside_down</td>\n",
       "    </tr>\n",
       "    <tr>\n",
       "      <th>48874</th>\n",
       "      <td>89-891789_1942-07-01_2008.jpg</td>\n",
       "      <td>rotated_right</td>\n",
       "    </tr>\n",
       "    <tr>\n",
       "      <th>48875</th>\n",
       "      <td>89-8923489_1952-11-01_2006.jpg</td>\n",
       "      <td>upside_down</td>\n",
       "    </tr>\n",
       "    <tr>\n",
       "      <th>48876</th>\n",
       "      <td>89-9012489_1941-12-25_2008.jpg</td>\n",
       "      <td>rotated_left</td>\n",
       "    </tr>\n",
       "    <tr>\n",
       "      <th>48877</th>\n",
       "      <td>89-9041089_1953-08-01_1978.jpg</td>\n",
       "      <td>upright</td>\n",
       "    </tr>\n",
       "    <tr>\n",
       "      <th>48878</th>\n",
       "      <td>89-9209089_1986-04-28_2014.jpg</td>\n",
       "      <td>upright</td>\n",
       "    </tr>\n",
       "    <tr>\n",
       "      <th>48879</th>\n",
       "      <td>89-92289_1974-07-30_2012.jpg</td>\n",
       "      <td>rotated_right</td>\n",
       "    </tr>\n",
       "    <tr>\n",
       "      <th>48880</th>\n",
       "      <td>89-926689_1908-11-11_1963.jpg</td>\n",
       "      <td>rotated_right</td>\n",
       "    </tr>\n",
       "    <tr>\n",
       "      <th>48881</th>\n",
       "      <td>89-9269689_1992-02-07_2014.jpg</td>\n",
       "      <td>rotated_left</td>\n",
       "    </tr>\n",
       "    <tr>\n",
       "      <th>48882</th>\n",
       "      <td>89-9332189_1974-07-23_2014.jpg</td>\n",
       "      <td>upright</td>\n",
       "    </tr>\n",
       "    <tr>\n",
       "      <th>48883</th>\n",
       "      <td>89-935189_1963-03-10_2008.jpg</td>\n",
       "      <td>rotated_right</td>\n",
       "    </tr>\n",
       "    <tr>\n",
       "      <th>48884</th>\n",
       "      <td>89-941989_1956-10-31_2013.jpg</td>\n",
       "      <td>rotated_right</td>\n",
       "    </tr>\n",
       "    <tr>\n",
       "      <th>48885</th>\n",
       "      <td>89-94289_1951-05-26_1984.jpg</td>\n",
       "      <td>rotated_right</td>\n",
       "    </tr>\n",
       "    <tr>\n",
       "      <th>48886</th>\n",
       "      <td>89-9496289_1993-06-13_2012.jpg</td>\n",
       "      <td>upside_down</td>\n",
       "    </tr>\n",
       "    <tr>\n",
       "      <th>48887</th>\n",
       "      <td>89-9507989_1976-07-19_2007.jpg</td>\n",
       "      <td>upside_down</td>\n",
       "    </tr>\n",
       "    <tr>\n",
       "      <th>48888</th>\n",
       "      <td>89-9560089_1961-05-19_1960.jpg</td>\n",
       "      <td>rotated_right</td>\n",
       "    </tr>\n",
       "    <tr>\n",
       "      <th>48889</th>\n",
       "      <td>89-9641289_1900-12-21_1960.jpg</td>\n",
       "      <td>upright</td>\n",
       "    </tr>\n",
       "    <tr>\n",
       "      <th>48890</th>\n",
       "      <td>89-9688889_1961-08-08_2009.jpg</td>\n",
       "      <td>rotated_right</td>\n",
       "    </tr>\n",
       "    <tr>\n",
       "      <th>48891</th>\n",
       "      <td>89-9693789_1941-01-11_1973.jpg</td>\n",
       "      <td>upright</td>\n",
       "    </tr>\n",
       "    <tr>\n",
       "      <th>48892</th>\n",
       "      <td>89-9719989_1985-04-13_2004.jpg</td>\n",
       "      <td>rotated_left</td>\n",
       "    </tr>\n",
       "    <tr>\n",
       "      <th>48893</th>\n",
       "      <td>89-981289_1962-12-23_2009.jpg</td>\n",
       "      <td>rotated_left</td>\n",
       "    </tr>\n",
       "    <tr>\n",
       "      <th>48894</th>\n",
       "      <td>89-9921189_1983-11-25_2013.jpg</td>\n",
       "      <td>rotated_left</td>\n",
       "    </tr>\n",
       "    <tr>\n",
       "      <th>48895</th>\n",
       "      <td>89-9954489_1927-03-13_1977.jpg</td>\n",
       "      <td>rotated_right</td>\n",
       "    </tr>\n",
       "  </tbody>\n",
       "</table>\n",
       "<p>48896 rows × 2 columns</p>\n",
       "</div>"
      ],
      "text/plain": [
       "                                   fn          label\n",
       "0      0-10049200_1891-09-16_1958.jpg   rotated_left\n",
       "1      0-10110600_1985-09-17_2012.jpg   rotated_left\n",
       "2      0-10126400_1964-07-07_2010.jpg        upright\n",
       "3       0-1013900_1917-10-15_1960.jpg  rotated_right\n",
       "4      0-10166400_1960-03-12_2008.jpg    upside_down\n",
       "5        0-102100_1970-10-09_2008.jpg   rotated_left\n",
       "6       0-1024100_1982-06-07_2011.jpg   rotated_left\n",
       "7      0-10292500_1984-03-26_2009.jpg   rotated_left\n",
       "8       0-1035700_1945-11-27_2013.jpg    upside_down\n",
       "9      0-10416800_1907-01-08_1967.jpg        upright\n",
       "10     0-10525500_1916-02-14_1951.jpg    upside_down\n",
       "11      0-1054800_1947-09-19_2011.jpg   rotated_left\n",
       "12     0-10623500_1931-09-25_1956.jpg    upside_down\n",
       "13     0-10726900_1991-02-03_2010.jpg  rotated_right\n",
       "14     0-10870400_1971-06-28_2013.jpg   rotated_left\n",
       "15     0-10898800_1951-06-03_1950.jpg        upright\n",
       "16     0-10967900_1956-03-18_2007.jpg    upside_down\n",
       "17     0-10996600_1988-06-15_2008.jpg    upside_down\n",
       "18     0-11035100_1984-08-03_2009.jpg    upside_down\n",
       "19      0-1121500_1976-07-31_2007.jpg   rotated_left\n",
       "20     0-11328300_1980-06-10_2008.jpg  rotated_right\n",
       "21      0-1138200_1963-02-24_2014.jpg   rotated_left\n",
       "22      0-1142200_1980-03-17_2010.jpg   rotated_left\n",
       "23     0-11435300_1959-12-26_1950.jpg        upright\n",
       "24     0-11436800_1951-04-17_1950.jpg  rotated_right\n",
       "25      0-1157400_1938-10-01_1961.jpg        upright\n",
       "26     0-11581000_1982-03-16_2007.jpg    upside_down\n",
       "27      0-1167000_1981-08-18_2012.jpg   rotated_left\n",
       "28     0-11736200_1930-09-26_1953.jpg    upside_down\n",
       "29      0-1199800_1976-04-13_2012.jpg        upright\n",
       "...                               ...            ...\n",
       "48866  89-8586089_1898-08-11_1940.jpg        upright\n",
       "48867  89-8590589_1932-08-30_2010.jpg   rotated_left\n",
       "48868   89-862189_1932-10-13_2007.jpg  rotated_right\n",
       "48869  89-8648689_1987-11-16_2006.jpg  rotated_right\n",
       "48870  89-8702889_1931-10-15_2003.jpg  rotated_right\n",
       "48871   89-870689_1977-01-28_2009.jpg  rotated_right\n",
       "48872  89-8773189_1962-10-01_2009.jpg        upright\n",
       "48873    89-88489_1944-08-08_1980.jpg    upside_down\n",
       "48874   89-891789_1942-07-01_2008.jpg  rotated_right\n",
       "48875  89-8923489_1952-11-01_2006.jpg    upside_down\n",
       "48876  89-9012489_1941-12-25_2008.jpg   rotated_left\n",
       "48877  89-9041089_1953-08-01_1978.jpg        upright\n",
       "48878  89-9209089_1986-04-28_2014.jpg        upright\n",
       "48879    89-92289_1974-07-30_2012.jpg  rotated_right\n",
       "48880   89-926689_1908-11-11_1963.jpg  rotated_right\n",
       "48881  89-9269689_1992-02-07_2014.jpg   rotated_left\n",
       "48882  89-9332189_1974-07-23_2014.jpg        upright\n",
       "48883   89-935189_1963-03-10_2008.jpg  rotated_right\n",
       "48884   89-941989_1956-10-31_2013.jpg  rotated_right\n",
       "48885    89-94289_1951-05-26_1984.jpg  rotated_right\n",
       "48886  89-9496289_1993-06-13_2012.jpg    upside_down\n",
       "48887  89-9507989_1976-07-19_2007.jpg    upside_down\n",
       "48888  89-9560089_1961-05-19_1960.jpg  rotated_right\n",
       "48889  89-9641289_1900-12-21_1960.jpg        upright\n",
       "48890  89-9688889_1961-08-08_2009.jpg  rotated_right\n",
       "48891  89-9693789_1941-01-11_1973.jpg        upright\n",
       "48892  89-9719989_1985-04-13_2004.jpg   rotated_left\n",
       "48893   89-981289_1962-12-23_2009.jpg   rotated_left\n",
       "48894  89-9921189_1983-11-25_2013.jpg   rotated_left\n",
       "48895  89-9954489_1927-03-13_1977.jpg  rotated_right\n",
       "\n",
       "[48896 rows x 2 columns]"
      ]
     },
     "execution_count": 6,
     "metadata": {},
     "output_type": "execute_result"
    }
   ],
   "source": [
    "from pandas import read_csv\n",
    "labels = read_csv('Large Files/train.rotfaces/train.truth.csv')\n",
    "\n",
    "labels"
   ]
  },
  {
   "cell_type": "code",
   "execution_count": 7,
   "metadata": {},
   "outputs": [],
   "source": [
    "X = []\n",
    "\n",
    "for item in labels.fn:\n",
    "    X.append(train[item])"
   ]
  },
  {
   "cell_type": "code",
   "execution_count": 8,
   "metadata": {},
   "outputs": [],
   "source": [
    "Ya = []\n",
    "\n",
    "for item in labels.label:\n",
    "    Ya.append(item)"
   ]
  },
  {
   "cell_type": "code",
   "execution_count": 12,
   "metadata": {},
   "outputs": [
    {
     "name": "stdout",
     "output_type": "stream",
     "text": [
      "['rotated_left' 'rotated_right' 'upright' 'upside_down']\n",
      "[0 0 2 ... 0 0 1]\n"
     ]
    }
   ],
   "source": [
    "from sklearn import preprocessing\n",
    "le = preprocessing.LabelEncoder()\n",
    "le.fit(Ya)\n",
    "print(le.classes_)\n",
    "\n",
    "Y = le.transform(Ya)\n",
    "print(Y)"
   ]
  },
  {
   "cell_type": "code",
   "execution_count": 13,
   "metadata": {},
   "outputs": [
    {
     "data": {
      "text/plain": [
       "array([[1., 0., 0., 0.],\n",
       "       [1., 0., 0., 0.],\n",
       "       [0., 0., 1., 0.],\n",
       "       ...,\n",
       "       [1., 0., 0., 0.],\n",
       "       [1., 0., 0., 0.],\n",
       "       [0., 1., 0., 0.]], dtype=float32)"
      ]
     },
     "execution_count": 13,
     "metadata": {},
     "output_type": "execute_result"
    }
   ],
   "source": [
    "from tensorflow.keras.utils import to_categorical\n",
    "\n",
    "Y = to_categorical(Y, num_classes=4)\n",
    "Y"
   ]
  },
  {
   "cell_type": "code",
   "execution_count": 14,
   "metadata": {},
   "outputs": [],
   "source": [
    "from sklearn.model_selection import train_test_split\n",
    "Xtr, Xte, Ytr, Yte = train_test_split(X, Y)"
   ]
  },
  {
   "cell_type": "code",
   "execution_count": 15,
   "metadata": {},
   "outputs": [
    {
     "data": {
      "text/plain": [
       "array([0., 0., 1., 0.], dtype=float32)"
      ]
     },
     "execution_count": 15,
     "metadata": {},
     "output_type": "execute_result"
    }
   ],
   "source": [
    "# le.inverse_transform([Ytr[1]])\n",
    "Ytr[1]"
   ]
  },
  {
   "cell_type": "code",
   "execution_count": 16,
   "metadata": {},
   "outputs": [
    {
     "data": {
      "text/plain": [
       "<matplotlib.image.AxesImage at 0x7f7cf8e8f0b8>"
      ]
     },
     "execution_count": 16,
     "metadata": {},
     "output_type": "execute_result"
    },
    {
     "data": {
      "image/png": "[encoded data removed]",
      "text/plain": [
       "<Figure size 432x288 with 1 Axes>"
      ]
     },
     "metadata": {
      "needs_background": "light"
     },
     "output_type": "display_data"
    }
   ],
   "source": [
    "%matplotlib inline\n",
    "import matplotlib.pyplot as plt\n",
    "plt.imshow(Xtr[1])"
   ]
  },
  {
   "cell_type": "code",
   "execution_count": 17,
   "metadata": {},
   "outputs": [
    {
     "name": "stdout",
     "output_type": "stream",
     "text": [
      "(36672, 64, 64, 3), (12224, 64, 64, 3), (36672, 4), (12224, 4)\n"
     ]
    }
   ],
   "source": [
    "from numpy import array\n",
    "\n",
    "Xtr = array(Xtr).astype('float16')\n",
    "Xte = array(Xte).astype('float16')\n",
    "Ytr = array(Ytr).astype('float16')\n",
    "Yte = array(Yte).astype('float16')\n",
    "\n",
    "print('{0}, {1}, {2}, {3}'.format(Xtr.shape, Xte.shape, Ytr.shape, Yte.shape))"
   ]
  },
  {
   "cell_type": "code",
   "execution_count": 18,
   "metadata": {},
   "outputs": [],
   "source": [
    "# my_model = Model({\n",
    "#     'Xtr': Xtr, 'Xte': Xte, 'Ytr': Ytr, 'Yte':Yte\n",
    "# }, frame=(64,64))"
   ]
  },
  {
   "cell_type": "code",
   "execution_count": 19,
   "metadata": {},
   "outputs": [],
   "source": [
    "# my_model.starter()"
   ]
  },
  {
   "cell_type": "code",
   "execution_count": 20,
   "metadata": {},
   "outputs": [],
   "source": [
    "# my_model.train(batch_size=128)\n",
    "# print(my_model.evaluate())\n",
    "# print(my_model.predict(Xte[0]))"
   ]
  },
  {
   "cell_type": "code",
   "execution_count": 26,
   "metadata": {},
   "outputs": [],
   "source": [
    "import keras\n",
    "from keras.datasets import cifar10\n",
    "from keras.preprocessing.image import ImageDataGenerator\n",
    "from keras.models import Sequential\n",
    "from keras.layers import Dense, Dropout, Activation, Flatten\n",
    "from keras.layers import Conv2D, MaxPooling2D\n",
    "import os"
   ]
  },
  {
   "cell_type": "code",
   "execution_count": 31,
   "metadata": {},
   "outputs": [],
   "source": [
    "batch_size = 32\n",
    "num_classes = 4\n",
    "epochs = 2\n",
    "num_predictions = 20\n",
    "save_dir = os.path.join(os.getcwd(), 'saved_models')\n",
    "model_name = 'keras_rotated_images.h5'"
   ]
  },
  {
   "cell_type": "code",
   "execution_count": 32,
   "metadata": {},
   "outputs": [],
   "source": [
    "model = Sequential()\n",
    "model.add(Conv2D(32, (3, 3), padding='same',\n",
    "                 input_shape=Xtr.shape[1:]))\n",
    "model.add(Activation('relu'))\n",
    "model.add(Conv2D(32, (3, 3)))\n",
    "model.add(Activation('relu'))\n",
    "model.add(MaxPooling2D(pool_size=(2, 2)))\n",
    "model.add(Dropout(0.25))\n",
    "\n",
    "model.add(Conv2D(64, (3, 3), padding='same'))\n",
    "model.add(Activation('relu'))\n",
    "model.add(Conv2D(64, (3, 3)))\n",
    "model.add(Activation('relu'))\n",
    "model.add(MaxPooling2D(pool_size=(2, 2)))\n",
    "model.add(Dropout(0.25))\n",
    "\n",
    "model.add(Flatten())\n",
    "model.add(Dense(512))\n",
    "model.add(Activation('relu'))\n",
    "model.add(Dropout(0.3))\n",
    "model.add(Dense(num_classes))\n",
    "model.add(Activation('softmax'))"
   ]
  },
  {
   "cell_type": "code",
   "execution_count": 33,
   "metadata": {},
   "outputs": [],
   "source": [
    "# initiate RMSprop optimizer\n",
    "opt = keras.optimizers.rmsprop(lr=0.0001, decay=1e-6)\n",
    "\n",
    "# Let's train the model using RMSprop\n",
    "model.compile(loss='categorical_crossentropy',\n",
    "              optimizer=opt,\n",
    "              metrics=['accuracy'])\n",
    "\n",
    "Xtr /= 255\n",
    "Xte /= 255"
   ]
  },
  {
   "cell_type": "code",
   "execution_count": 34,
   "metadata": {},
   "outputs": [
    {
     "name": "stdout",
     "output_type": "stream",
     "text": [
      "Not using data augmentation.\n",
      "Train on 36672 samples, validate on 12224 samples\n",
      "Epoch 1/2\n",
      "36672/36672 [==============================] - 708s 19ms/step - loss: 1.3864 - acc: 0.2522 - val_loss: 1.3866 - val_acc: 0.2477\n",
      "Epoch 2/2\n",
      "36672/36672 [==============================] - 697s 19ms/step - loss: 1.3863 - acc: 0.2514 - val_loss: 1.3863 - val_acc: 0.2479\n"
     ]
    }
   ],
   "source": [
    "print('Not using data augmentation.')\n",
    "model.fit(Xtr, Ytr,\n",
    "          batch_size=batch_size,\n",
    "          epochs=epochs,\n",
    "          validation_data=(Xte, Yte),\n",
    "          shuffle=True)"
   ]
  },
  {
   "cell_type": "code",
   "execution_count": 36,
   "metadata": {},
   "outputs": [
    {
     "name": "stdout",
     "output_type": "stream",
     "text": [
      "Saved trained model at /home/souza/Documents/ds-test/saved_models/keras_rotated_images.h5 \n",
      "12224/12224 [==============================] - 51s 4ms/step\n",
      "Test loss: 1.3863308523337878\n",
      "Test accuracy: 0.24787303664921467\n"
     ]
    }
   ],
   "source": [
    "# Save model and weights\n",
    "if not os.path.isdir(save_dir):\n",
    "    os.makedirs(save_dir)\n",
    "model_path = os.path.join(save_dir, model_name)\n",
    "model.save(model_path)\n",
    "print('Saved trained model at %s ' % model_path)\n",
    "\n",
    "# Score trained model.\n",
    "scores = model.evaluate(Xte, Yte, verbose=1)\n",
    "print('Test loss:', scores[0])\n",
    "print('Test accuracy:', scores[1])"
   ]
  },
  {
   "cell_type": "code",
   "execution_count": 90,
   "metadata": {},
   "outputs": [
    {
     "name": "stdout",
     "output_type": "stream",
     "text": [
      "100%\r"
     ]
    }
   ],
   "source": [
    "from imageio import imread\n",
    "from os.path import join\n",
    "\n",
    "track = len(test_files_name)\n",
    "count = 0\n",
    "\n",
    "test = dict()\n",
    "for f in test_files_name:\n",
    "    test[f] = (imread(join('/home/souza/Documents/ds-test/Large Files/test.rotfaces/test', f)))\n",
    "    count += 1\n",
    "    print('{0}%'.format(round((count/track)*100), 2), end='\\r')"
   ]
  },
  {
   "cell_type": "code",
   "execution_count": 91,
   "metadata": {},
   "outputs": [],
   "source": [
    "Ynew = dict()\n",
    "for key in test:\n",
    "    Ynew[key] = model.predict_classes(test[key].reshape(1, 64, 64, 3))"
   ]
  },
  {
   "cell_type": "code",
   "execution_count": 92,
   "metadata": {},
   "outputs": [],
   "source": [
    "CSV = list()\n",
    "CSV.append(['fn', 'label'])\n",
    "from numpy import argmax\n",
    "for item in Ynew:\n",
    "    CSV.append([item, le.inverse_transform([argmax(Ynew[item])])[0]])"
   ]
  },
  {
   "cell_type": "code",
   "execution_count": 93,
   "metadata": {},
   "outputs": [],
   "source": [
    "from pandas import DataFrame\n",
    "DataFrame(CSV).to_csv('Large Files/test.rotfaces/test.preds.csv', index=False, header=False)"
   ]
  },
  {
   "cell_type": "code",
   "execution_count": null,
   "metadata": {},
   "outputs": [],
   "source": []
  }
 ],
 "metadata": {
  "kernelspec": {
   "display_name": "Python 3",
   "language": "python",
   "name": "python3"
  },
  "language_info": {
   "codemirror_mode": {
    "name": "ipython",
    "version": 3
   },
   "file_extension": ".py",
   "mimetype": "text/x-python",
   "name": "python",
   "nbconvert_exporter": "python",
   "pygments_lexer": "ipython3",
   "version": "3.7.3"
  }
 },
 "nbformat": 4,
 "nbformat_minor": 2
}
